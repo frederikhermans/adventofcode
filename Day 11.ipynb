{
 "metadata": {
  "name": "",
  "signature": "sha256:b7b92e4af3da0aed1f1968923a6a3546047eb85d1936019f30f4b6386a733b61"
 },
 "nbformat": 3,
 "nbformat_minor": 0,
 "worksheets": [
  {
   "cells": [
    {
     "cell_type": "code",
     "collapsed": false,
     "input": [
      "def password_cycle(start):\n",
      "    '''Generates passwords by incrementing `start`'''\n",
      "    a = ord('a')\n",
      "    exps = range(8)[::-1]\n",
      "    password = sum((ord(c)-a)*26**e for e, c in zip(exps, start))\n",
      "    while True:\n",
      "        password += 1\n",
      "        yield ''.join(chr(a+(password / 26**e) % 26) for e in exps)"
     ],
     "language": "python",
     "metadata": {},
     "outputs": [],
     "prompt_number": 1
    },
    {
     "cell_type": "code",
     "collapsed": false,
     "input": [
      "import re\n",
      "\n",
      "def has_straight(password):\n",
      "    return len(list(a for a, b, c in zip(password, password[1:], password[2:])\n",
      "               if ord(a)+2 == ord(b)+1 == ord(c))) != 0\n",
      "\n",
      "def no_illegal_letters(password):\n",
      "    return not any(c in password for c in 'iol')\n",
      "\n",
      "def has_two_pairs(password):\n",
      "    return len(set(re.findall(r'([a-z])\\1+', password))) > 1\n",
      "\n",
      "def is_valid(password):\n",
      "    return (has_straight(password) and\n",
      "            no_illegal_letters(password) and \n",
      "            has_two_pairs(password))"
     ],
     "language": "python",
     "metadata": {},
     "outputs": [],
     "prompt_number": 2
    },
    {
     "cell_type": "code",
     "collapsed": false,
     "input": [
      "def next_valid(start):\n",
      "    for password in password_cycle(start):\n",
      "        if is_valid(password):\n",
      "            return password"
     ],
     "language": "python",
     "metadata": {},
     "outputs": [],
     "prompt_number": 3
    },
    {
     "cell_type": "code",
     "collapsed": false,
     "input": [
      "print next_valid('vzbxkghb')"
     ],
     "language": "python",
     "metadata": {},
     "outputs": [
      {
       "output_type": "stream",
       "stream": "stdout",
       "text": [
        "vzbxxyzz\n"
       ]
      }
     ],
     "prompt_number": 4
    },
    {
     "cell_type": "code",
     "collapsed": false,
     "input": [
      "print next_valid('vzbxxyzz')"
     ],
     "language": "python",
     "metadata": {},
     "outputs": [
      {
       "output_type": "stream",
       "stream": "stdout",
       "text": [
        "vzcaabcc\n"
       ]
      }
     ],
     "prompt_number": 5
    }
   ],
   "metadata": {}
  }
 ]
}