{
 "metadata": {
  "name": "",
  "signature": "sha256:8cb6a8a293bc9284a7ce7fd26128e48c1c8d4af88d220d47982cc07e5005c39f"
 },
 "nbformat": 3,
 "nbformat_minor": 0,
 "worksheets": [
  {
   "cells": [
    {
     "cell_type": "code",
     "collapsed": false,
     "input": [
      "import itertools"
     ],
     "language": "python",
     "metadata": {},
     "outputs": [],
     "prompt_number": 1
    },
    {
     "cell_type": "code",
     "collapsed": false,
     "input": [
      "def parse_input(lines):\n",
      "    weights = dict()\n",
      "    for edge in lines:\n",
      "        # Dublin -> London -> Belfast = 982\n",
      "        src, _, dst, _, weight = edge.split()\n",
      "        weights[(src, dst)] = weights[(dst, src)] = int(weight)\n",
      "    cities = set(itertools.chain.from_iterable(weights.keys()))\n",
      "    return weights, cities"
     ],
     "language": "python",
     "metadata": {},
     "outputs": [],
     "prompt_number": 2
    },
    {
     "cell_type": "code",
     "collapsed": false,
     "input": [
      "def all_paths(cities):\n",
      "    '''Generate all possible paths between `cities`'''\n",
      "    for perm in itertools.permutations(cities):\n",
      "        yield zip(perm[:-1], perm[1:])"
     ],
     "language": "python",
     "metadata": {},
     "outputs": [],
     "prompt_number": 3
    },
    {
     "cell_type": "code",
     "collapsed": false,
     "input": [
      "def costs(weights, cities):\n",
      "    '''Return the costs of all possible paths.'''\n",
      "    return (sum(weights[edge] for edge in path)\n",
      "            for path in all_paths(cities))"
     ],
     "language": "python",
     "metadata": {},
     "outputs": [],
     "prompt_number": 4
    },
    {
     "cell_type": "code",
     "collapsed": false,
     "input": [
      "with open('inputs/problem9-input') as lines:\n",
      "    weights, cities = parse_input(lines)\n",
      "print min(costs(weights, cities))\n",
      "print max(costs(weights, cities))"
     ],
     "language": "python",
     "metadata": {},
     "outputs": [
      {
       "output_type": "stream",
       "stream": "stdout",
       "text": [
        "141\n",
        "736"
       ]
      },
      {
       "output_type": "stream",
       "stream": "stdout",
       "text": [
        "\n"
       ]
      }
     ],
     "prompt_number": 5
    }
   ],
   "metadata": {}
  }
 ]
}