{
 "metadata": {
  "name": "",
  "signature": "sha256:1684ef1e53658a6ff99e7c99ca20569a00874a0c3ddcd8d29b9fea090fe4511b"
 },
 "nbformat": 3,
 "nbformat_minor": 0,
 "worksheets": [
  {
   "cells": [
    {
     "cell_type": "code",
     "collapsed": false,
     "input": [
      "import collections\n",
      "import operator"
     ],
     "language": "python",
     "metadata": {},
     "outputs": [],
     "prompt_number": 1
    },
    {
     "cell_type": "code",
     "collapsed": false,
     "input": [
      "Gate = collections.namedtuple('Gate', ['cmd', 'operands'])\n",
      "COMMANDS = {'AND': operator.and_, 'OR': operator.or_,\n",
      "            'LSHIFT': operator.lshift, 'RSHIFT': operator.rshift,\n",
      "            'NOT': operator.inv, 'ID': (lambda x: x)}\n",
      "\n",
      "def parse_gate(gatestr):\n",
      "    instr, output = gatestr.split(' -> ')\n",
      "    # Reformat as CMD OP1 [OP2]\n",
      "    instr = instr.split(' ')\n",
      "    if len(instr) == 1:\n",
      "        instr.insert(0, 'ID')\n",
      "    elif len(instr) == 3:\n",
      "        instr[0], instr[1] = instr[1], instr[0]\n",
      "\n",
      "    return Gate(COMMANDS[instr[0]], instr[1:]), output\n",
      "\n",
      "def parse_circuit(circuitstr):\n",
      "    circuit = dict()\n",
      "    for gatestr in circuitstr.split('\\n'):\n",
      "        if gatestr:\n",
      "            gate, output = parse_gate(gatestr)\n",
      "            circuit[output] = gate\n",
      "    return circuit"
     ],
     "language": "python",
     "metadata": {},
     "outputs": [],
     "prompt_number": 2
    },
    {
     "cell_type": "code",
     "collapsed": false,
     "input": [
      "def eval_circuit(circuit, wire, acc=None):\n",
      "    if wire.isdigit():\n",
      "        return int(wire)\n",
      "\n",
      "    if acc is None:\n",
      "        acc = dict()\n",
      "    \n",
      "    if wire not in acc:\n",
      "        gate = circuit[wire]\n",
      "        operands = [eval_circuit(circuit, o, acc=acc) for o in gate.operands]\n",
      "        acc[wire] = gate.cmd(*operands) & 0xffff\n",
      "    return acc[wire]"
     ],
     "language": "python",
     "metadata": {},
     "outputs": [],
     "prompt_number": 3
    },
    {
     "cell_type": "code",
     "collapsed": false,
     "input": [
      "with open('problem7-input') as circuitfile:\n",
      "    circuitstr = circuitfile.read()"
     ],
     "language": "python",
     "metadata": {},
     "outputs": [],
     "prompt_number": 4
    },
    {
     "cell_type": "code",
     "collapsed": false,
     "input": [
      "circuit = parse_circuit(circuitstr)\n",
      "print eval_circuit(circuit, 'a')"
     ],
     "language": "python",
     "metadata": {},
     "outputs": [
      {
       "output_type": "stream",
       "stream": "stdout",
       "text": [
        "46065\n"
       ]
      }
     ],
     "prompt_number": 5
    },
    {
     "cell_type": "code",
     "collapsed": false,
     "input": [
      "circuit['b'] = parse_gate('46065 -> b')[0]\n",
      "print eval_circuit(circuit, 'a')"
     ],
     "language": "python",
     "metadata": {},
     "outputs": [
      {
       "output_type": "stream",
       "stream": "stdout",
       "text": [
        "14134\n"
       ]
      }
     ],
     "prompt_number": 6
    }
   ],
   "metadata": {}
  }
 ]
}