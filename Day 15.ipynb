{
 "metadata": {
  "name": "",
  "signature": "sha256:3fbdb0498c0551379af5e75bfb1e9226250287bbfb92f2e0d91f8dd997731625"
 },
 "nbformat": 3,
 "nbformat_minor": 0,
 "worksheets": [
  {
   "cells": [
    {
     "cell_type": "code",
     "collapsed": false,
     "input": [
      "import numpy as np"
     ],
     "language": "python",
     "metadata": {},
     "outputs": [],
     "prompt_number": 1
    },
    {
     "cell_type": "code",
     "collapsed": false,
     "input": [
      "def score(spoons, ingredients):\n",
      "    properties = (ingredients.T*spoons).sum(axis=1)\n",
      "    properties[properties < 0] = 0\n",
      "    return np.prod(properties[:-1]), properties[-1]"
     ],
     "language": "python",
     "metadata": {},
     "outputs": [],
     "prompt_number": 2
    },
    {
     "cell_type": "code",
     "collapsed": false,
     "input": [
      "def split(summands, n):\n",
      "    if summands == 1:\n",
      "        yield (n, )\n",
      "    else:\n",
      "        for a in xrange(n+1):\n",
      "            for rest in split(summands-1, n-a):\n",
      "                yield ((a, ) + rest)"
     ],
     "language": "python",
     "metadata": {},
     "outputs": [],
     "prompt_number": 3
    },
    {
     "cell_type": "code",
     "collapsed": false,
     "input": [
      "re = r'\\w+: capacity (-?\\d+), durability (-?\\d+), flavor (-?\\d+), texture (-?\\d+), calories (\\d+)'\n",
      "ingredients = np.fromregex('inputs/problem15-input', re, np.int)\n",
      "scores = list(score(spoons, ingredients)\n",
      "              for spoons in split(len(ingredients), 100))\n",
      "print max(scores)[0]\n",
      "print max(score for score, calories in scores if calories == 500)"
     ],
     "language": "python",
     "metadata": {},
     "outputs": [
      {
       "output_type": "stream",
       "stream": "stdout",
       "text": [
        "21367368\n",
        "1766400\n"
       ]
      }
     ],
     "prompt_number": 4
    }
   ],
   "metadata": {}
  }
 ]
}