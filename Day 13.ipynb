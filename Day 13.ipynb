{
 "metadata": {
  "name": "",
  "signature": "sha256:b38b67c69ab68eb8b5199360615ea56ea9dd953df6625723f74ac57ac6e0700e"
 },
 "nbformat": 3,
 "nbformat_minor": 0,
 "worksheets": [
  {
   "cells": [
    {
     "cell_type": "code",
     "collapsed": false,
     "input": [
      "import itertools\n",
      "import numpy as np"
     ],
     "language": "python",
     "metadata": {},
     "outputs": [],
     "prompt_number": 1
    },
    {
     "cell_type": "code",
     "collapsed": false,
     "input": [
      "def read_weights(fname):\n",
      "    weights = dict()\n",
      "    with open(fname) as fin:\n",
      "        for line in fin:\n",
      "            # Example: \"Alice would gain 54 happiness units by sitting next to Bob.\"\n",
      "            line = line.split()\n",
      "            a, factor, weight, b = line[0], line[2], line[3], line[-1][:-1]\n",
      "            factor = -1 if factor == 'lose' else 1\n",
      "            weights[(a, b)] = factor*int(weight)\n",
      "    guests = set(a for a, _ in weights)\n",
      "    return weights, guests"
     ],
     "language": "python",
     "metadata": {},
     "outputs": [],
     "prompt_number": 2
    },
    {
     "cell_type": "code",
     "collapsed": false,
     "input": [
      "def total_happiness(arrangement, weights):\n",
      "    return sum(weights[(a, b)]+weights[(b, a)]\n",
      "               for a, b in zip(arrangement, np.roll(arrangement, 1)))"
     ],
     "language": "python",
     "metadata": {},
     "outputs": [],
     "prompt_number": 3
    },
    {
     "cell_type": "code",
     "collapsed": false,
     "input": [
      "weights, guests = read_weights('inputs/problem13-input')\n",
      "print max(total_happiness(arrangement, weights)\n",
      "          for arrangement in itertools.permutations(guests))"
     ],
     "language": "python",
     "metadata": {},
     "outputs": [
      {
       "output_type": "stream",
       "stream": "stdout",
       "text": [
        "664\n"
       ]
      }
     ],
     "prompt_number": 4
    },
    {
     "cell_type": "code",
     "collapsed": false,
     "input": [
      "for g in guests:\n",
      "    weights[('i', g)] = weights[(g, 'i')] = 0\n",
      "guests.add('i')\n",
      "max(total_happiness(arrangement, weights)\n",
      "    for arrangement in itertools.permutations(guests))"
     ],
     "language": "python",
     "metadata": {},
     "outputs": [
      {
       "metadata": {},
       "output_type": "pyout",
       "prompt_number": 5,
       "text": [
        "640"
       ]
      }
     ],
     "prompt_number": 5
    }
   ],
   "metadata": {}
  }
 ]
}