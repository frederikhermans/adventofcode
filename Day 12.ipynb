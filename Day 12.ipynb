{
 "metadata": {
  "name": "",
  "signature": "sha256:362000a8f351d3c1466a59bb04a274c9a1b73d1673071b743d1487e5f55429f8"
 },
 "nbformat": 3,
 "nbformat_minor": 0,
 "worksheets": [
  {
   "cells": [
    {
     "cell_type": "code",
     "collapsed": false,
     "input": [
      "import json"
     ],
     "language": "python",
     "metadata": {},
     "outputs": [],
     "prompt_number": 1
    },
    {
     "cell_type": "code",
     "collapsed": false,
     "input": [
      "def sumints(obj, no_red=False):\n",
      "    if isinstance(obj, (long, int)):\n",
      "        return obj\n",
      "    elif isinstance(obj, list):\n",
      "        return sum(sumints(elem, no_red=no_red) for elem in obj)\n",
      "    elif isinstance(obj, dict):\n",
      "        if no_red and 'red' in obj.values():\n",
      "            return 0\n",
      "        return sumints(obj.keys() + obj.values(), no_red=no_red)\n",
      "    elif isinstance(obj, (str, unicode)):\n",
      "        return 0\n",
      "\n",
      "    raise ValueError('Unexpected object type {}.'.format(type(obj)))"
     ],
     "language": "python",
     "metadata": {},
     "outputs": [],
     "prompt_number": 2
    },
    {
     "cell_type": "code",
     "collapsed": false,
     "input": [
      "with open('inputs/problem12-input') as jsonfile:\n",
      "    jsonobj = json.load(jsonfile)\n",
      "print sumints(jsonobj)\n",
      "print sumints(jsonobj, no_red=True)"
     ],
     "language": "python",
     "metadata": {},
     "outputs": [
      {
       "output_type": "stream",
       "stream": "stdout",
       "text": [
        "191164\n",
        "87842\n"
       ]
      }
     ],
     "prompt_number": 3
    }
   ],
   "metadata": {}
  }
 ]
}