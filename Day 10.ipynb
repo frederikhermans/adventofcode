{
 "metadata": {
  "name": "",
  "signature": "sha256:b58e20706f2b6fa6006f5eb65d01bc6e5cf4fdf7a3dc5bc2f6943d294ff82198"
 },
 "nbformat": 3,
 "nbformat_minor": 0,
 "worksheets": [
  {
   "cells": [
    {
     "cell_type": "code",
     "collapsed": false,
     "input": [
      "import re"
     ],
     "language": "python",
     "metadata": {},
     "outputs": [],
     "prompt_number": 1
    },
    {
     "cell_type": "code",
     "collapsed": false,
     "input": [
      "# Regex that matches runs of digits\n",
      "re_run = re.compile(r'((\\d)\\2*)')"
     ],
     "language": "python",
     "metadata": {},
     "outputs": [],
     "prompt_number": 2
    },
    {
     "cell_type": "code",
     "collapsed": false,
     "input": [
      "def look_and_say(sequence):\n",
      "    runs = [match[0] for match in re_run.findall(sequence)]\n",
      "    return ''.join(str(len(run)) + run[0] for run in runs)"
     ],
     "language": "python",
     "metadata": {},
     "outputs": [],
     "prompt_number": 3
    },
    {
     "cell_type": "code",
     "collapsed": false,
     "input": [
      "sequence = '1113122113'\n",
      "for i in xrange(1, 51):\n",
      "    sequence = look_and_say(sequence)\n",
      "    if i == 40:\n",
      "        print '{} iterations: {}'.format(i, len(sequence))\n",
      "print '{} iterations: {}'.format(i, len(sequence))"
     ],
     "language": "python",
     "metadata": {},
     "outputs": [
      {
       "output_type": "stream",
       "stream": "stdout",
       "text": [
        "40 iterations: 360154\n",
        "50 iterations: 5103798"
       ]
      },
      {
       "output_type": "stream",
       "stream": "stdout",
       "text": [
        "\n"
       ]
      }
     ],
     "prompt_number": 4
    }
   ],
   "metadata": {}
  }
 ]
}