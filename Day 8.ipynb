{
 "metadata": {
  "name": "",
  "signature": "sha256:920849e8b833208eef335e67f04f2b2a8198c669f07d1bc52eebd8fd6edba8e4"
 },
 "nbformat": 3,
 "nbformat_minor": 0,
 "worksheets": [
  {
   "cells": [
    {
     "cell_type": "code",
     "collapsed": false,
     "input": [
      "total = 0\n",
      "with open('inputs/problem8-input') as lines:\n",
      "    for string in lines:\n",
      "        string = string[:-1]\n",
      "        total += len(string) - len(eval(string))\n",
      "\n",
      "print total"
     ],
     "language": "python",
     "metadata": {},
     "outputs": [
      {
       "output_type": "stream",
       "stream": "stdout",
       "text": [
        "1371\n"
       ]
      }
     ],
     "prompt_number": 1
    },
    {
     "cell_type": "code",
     "collapsed": false,
     "input": [
      "total = 0\n",
      "with open('inputs/problem8-input') as lines:\n",
      "    for string in lines:\n",
      "        string = string[:-1]\n",
      "        escaped = '\"' + string.replace('\\\\', '\\\\\\\\').replace(r'\"', r'\\\"') + '\"'\n",
      "        total += len(escaped) - len(string)\n",
      "        \n",
      "print total"
     ],
     "language": "python",
     "metadata": {},
     "outputs": [
      {
       "output_type": "stream",
       "stream": "stdout",
       "text": [
        "2117\n"
       ]
      }
     ],
     "prompt_number": 2
    },
    {
     "cell_type": "markdown",
     "metadata": {},
     "source": [
      "## One-liner solutions"
     ]
    },
    {
     "cell_type": "code",
     "collapsed": false,
     "input": [
      "sum(len(s[:-1]) - len(eval(s)) for s in open('inputs/problem8-input'))"
     ],
     "language": "python",
     "metadata": {},
     "outputs": [
      {
       "metadata": {},
       "output_type": "pyout",
       "prompt_number": 3,
       "text": [
        "1371"
       ]
      }
     ],
     "prompt_number": 3
    },
    {
     "cell_type": "code",
     "collapsed": false,
     "input": [
      "sum(2+s.count('\\\\')+s.count('\"') for s in open('inputs/problem8-input'))"
     ],
     "language": "python",
     "metadata": {},
     "outputs": [
      {
       "metadata": {},
       "output_type": "pyout",
       "prompt_number": 4,
       "text": [
        "2117"
       ]
      }
     ],
     "prompt_number": 4
    }
   ],
   "metadata": {}
  }
 ]
}