{
 "metadata": {
  "name": "",
  "signature": "sha256:e9f6c20c92ac8e9bb7b5e54593c4b0cd323057fef3a6ad01c55422295ca38f9d"
 },
 "nbformat": 3,
 "nbformat_minor": 0,
 "worksheets": [
  {
   "cells": [
    {
     "cell_type": "code",
     "collapsed": false,
     "input": [
      "total = 0\n",
      "with open('inputs/problem8-input') as lines:\n",
      "    for string in lines:\n",
      "        string = string[:-1]\n",
      "        total += len(string) - len(eval(string))\n",
      "\n",
      "print total"
     ],
     "language": "python",
     "metadata": {},
     "outputs": [
      {
       "output_type": "stream",
       "stream": "stdout",
       "text": [
        "1371\n"
       ]
      }
     ],
     "prompt_number": 1
    },
    {
     "cell_type": "code",
     "collapsed": false,
     "input": [
      "total = 0\n",
      "with open('inputs/problem8-input') as lines:\n",
      "    for string in lines:\n",
      "        string = string[:-1]\n",
      "        escaped = '\"' + string.replace('\\\\', '\\\\\\\\').replace(r'\"', r'\\\"') + '\"'\n",
      "        total += len(escaped) - len(string)\n",
      "        \n",
      "print total"
     ],
     "language": "python",
     "metadata": {},
     "outputs": [
      {
       "output_type": "stream",
       "stream": "stdout",
       "text": [
        "2117\n"
       ]
      }
     ],
     "prompt_number": 2
    }
   ],
   "metadata": {}
  }
 ]
}