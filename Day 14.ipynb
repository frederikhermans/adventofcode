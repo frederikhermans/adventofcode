{
 "metadata": {
  "name": "",
  "signature": "sha256:2a0012c850d9c9156f94303ffa976ee2b214a9d1ef6c2d6f9691290d4d9a3db6"
 },
 "nbformat": 3,
 "nbformat_minor": 0,
 "worksheets": [
  {
   "cells": [
    {
     "cell_type": "code",
     "collapsed": false,
     "input": [
      "import itertools\n",
      "import re\n",
      "\n",
      "import numpy as np"
     ],
     "language": "python",
     "metadata": {},
     "outputs": [],
     "prompt_number": 1
    },
    {
     "cell_type": "code",
     "collapsed": false,
     "input": [
      "re_reindeer = re.compile(r'^\\w+ can fly (\\d+) km/s for (\\d+) seconds, but then must rest for (\\d+) seconds.$')\n",
      "\n",
      "def inputs(fname):\n",
      "    with open(fname) as fin:\n",
      "        return [tuple(int(val) for val in re_reindeer.match(line).groups())\n",
      "                for line in fin]"
     ],
     "language": "python",
     "metadata": {},
     "outputs": [],
     "prompt_number": 2
    },
    {
     "cell_type": "code",
     "collapsed": false,
     "input": [
      "reindeers = [itertools.cycle([speed]*fly_time + [0]*rest_time)\n",
      "             for speed, fly_time, rest_time in inputs('inputs/problem14-input')]\n",
      "\n",
      "traveled = np.zeros(len(reindeers), dtype=np.int)\n",
      "score = np.zeros(len(reindeers), dtype=np.int)\n",
      "for _ in xrange(2503):\n",
      "    traveled += [next(r) for r in reindeers]\n",
      "    score[traveled == max(traveled)] += 1\n",
      "    \n",
      "print 'Maximum distance traveled:', max(traveled)\n",
      "print 'Best score:', max(score)"
     ],
     "language": "python",
     "metadata": {},
     "outputs": [
      {
       "output_type": "stream",
       "stream": "stdout",
       "text": [
        "Maximum distance traveled: 2660\n",
        "Best score: 1256\n"
       ]
      }
     ],
     "prompt_number": 3
    }
   ],
   "metadata": {}
  }
 ]
}